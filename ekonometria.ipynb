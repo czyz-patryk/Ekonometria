{
  "nbformat": 4,
  "nbformat_minor": 0,
  "metadata": {
    "colab": {
      "provenance": [],
      "authorship_tag": "ABX9TyP1B8mPkNzdowDapoxfzLZO",
      "include_colab_link": true
    },
    "kernelspec": {
      "name": "python3",
      "display_name": "Python 3"
    },
    "language_info": {
      "name": "python"
    }
  },
  "cells": [
    {
      "cell_type": "markdown",
      "metadata": {
        "id": "view-in-github",
        "colab_type": "text"
      },
      "source": [
        "<a href=\"https://colab.research.google.com/github/czyz-patryk/Ekonometria/blob/main/ekonometria.ipynb\" target=\"_parent\"><img src=\"https://colab.research.google.com/assets/colab-badge.svg\" alt=\"Open In Colab\"/></a>"
      ]
    },
    {
      "cell_type": "code",
      "source": [
        "import numpy as np"
      ],
      "metadata": {
        "id": "CXEQz632FHkX"
      },
      "execution_count": 39,
      "outputs": []
    },
    {
      "cell_type": "markdown",
      "source": [
        "#Zadanie 11 - maksymalny zysk\n",
        "Dana jest funkcja zysku w przedsiębiorstwie"
      ],
      "metadata": {
        "id": "iEttqKP9_sNF"
      }
    },
    {
      "cell_type": "code",
      "source": [
        "p_kwadrat = -3.6\n",
        "p = 421\n",
        "wyraz_wolny = -1012"
      ],
      "metadata": {
        "id": "I5KlL-P5_0AU"
      },
      "execution_count": 1,
      "outputs": []
    },
    {
      "cell_type": "markdown",
      "source": [
        "Określ maksymalny zysk jaki może osiągnąć przedsiębiorsto"
      ],
      "metadata": {
        "id": "wqWThJEAAA_T"
      }
    },
    {
      "cell_type": "code",
      "source": [
        "pochodna_po_p2 = 2*p_kwadrat\n",
        "pochodna_po_p1 = p\n",
        "\n",
        "P = p / (-1*pochodna_po_p2)\n",
        "\n",
        "zysk_max = p_kwadrat*(P**2) + p*P + wyraz_wolny\n",
        "\n",
        "print(\"Poziom produkcji przy którym zysk jest największy: \", P)\n",
        "print(\"Zysk maksymalny to: \", zysk_max)"
      ],
      "metadata": {
        "colab": {
          "base_uri": "https://localhost:8080/"
        },
        "id": "RIGAkHWZAGgt",
        "outputId": "0d5af577-0dc7-4f8e-a9e7-4ddf137fc5fc"
      },
      "execution_count": 4,
      "outputs": [
        {
          "output_type": "stream",
          "name": "stdout",
          "text": [
            "Poziom produkcji przy którym zysk jest największy:  58.47222222222222\n",
            "Zysk maksymalny to:  11296.402777777777\n"
          ]
        }
      ]
    },
    {
      "cell_type": "markdown",
      "source": [
        "#Zadanie 7 - rodzaj popytu\n",
        "\n",
        "Oszacowano funkcję popytu na produkt A"
      ],
      "metadata": {
        "id": "cdep3phdBtoL"
      }
    },
    {
      "cell_type": "code",
      "source": [
        "liczba_poczatkowa = 4.6\n",
        "A = -1\n",
        "B = 0.9\n",
        "C = -0.6"
      ],
      "metadata": {
        "id": "l1GtELsDAv3Q"
      },
      "execution_count": 31,
      "outputs": []
    },
    {
      "cell_type": "markdown",
      "source": [
        "gdzie:\n",
        "\n",
        "P - popyt na produkt A\n",
        "\n",
        "A - cena produktu A\n",
        "\n",
        "B - cena produktu B\n",
        "\n",
        "C - cena produktu C\n",
        "\n",
        "Popyt na dobro A jest:"
      ],
      "metadata": {
        "id": "5f6Wtw-nCKlU"
      }
    },
    {
      "cell_type": "code",
      "source": [
        "print(\"Popyt na dobro A jest: \")\n",
        "if A < -1:\n",
        "  print(\"elastyczny\")\n",
        "elif A == -1:\n",
        "  print(\"neutralny\")\n",
        "elif A > -1:\n",
        "  print(\"sztywny\")"
      ],
      "metadata": {
        "colab": {
          "base_uri": "https://localhost:8080/"
        },
        "id": "SV7XNp00CesC",
        "outputId": "771085d3-b00b-442e-8603-6b697fecff28"
      },
      "execution_count": 32,
      "outputs": [
        {
          "output_type": "stream",
          "name": "stdout",
          "text": [
            "Popyt na dobro A jest: \n",
            "neutralny\n"
          ]
        }
      ]
    },
    {
      "cell_type": "markdown",
      "source": [
        "#Zadanie z samochodem - progi rentowności\n",
        "\n",
        "Na podstawie danych miesięcznych oszacowano funkcję kosztów całkowitych produkcji samochodów określonej marki:"
      ],
      "metadata": {
        "id": "liOHVklpC8nq"
      }
    },
    {
      "cell_type": "code",
      "source": [
        "p_kwadrat = 3.2\n",
        "p = -4.5\n",
        "wyraz_wolny = 20\n",
        "\n",
        "produkcja_w_okresie = 800\n",
        "cena_zbytu = 120"
      ],
      "metadata": {
        "id": "OAjH2BeAC2N8"
      },
      "execution_count": 35,
      "outputs": []
    },
    {
      "cell_type": "markdown",
      "source": [
        "Gdzie: \n",
        "\n",
        "K - koszty produkcji (w tys. zł)\n",
        "\n",
        "P - produkcja samochodów (w setkach szt.)\n",
        "\n",
        "W analizowanym okresie produkcja tych samochodów wyniosła ???800 szt.???\n",
        "\n",
        "Policz progi rentowności produkcji, jeżeli cena zbytu 1 samochodu wynosi ???100 tys. zł???\n"
      ],
      "metadata": {
        "id": "JQGUwPGzDSug"
      }
    },
    {
      "cell_type": "code",
      "source": [
        "nowe_p = p - cena_zbytu\n",
        "delta = nowe_p**2 - 4*p_kwadrat*wyraz_wolny\n",
        "pierwiastek_z_delty = np.sqrt(delta)\n",
        "p1 = ((-1)*nowe_p - pierwiastek_z_delty) / (2*p_kwadrat)\n",
        "p2 = ((-1)*nowe_p + pierwiastek_z_delty) / (2*p_kwadrat)\n",
        "\n",
        "print(\"Progi rentowności to: (\", p1, \", \", p2, \")\")"
      ],
      "metadata": {
        "colab": {
          "base_uri": "https://localhost:8080/"
        },
        "id": "CGbJKgUbD6tI",
        "outputId": "3c77c300-55b4-4958-cd15-5eddf1ec2c55"
      },
      "execution_count": 36,
      "outputs": [
        {
          "output_type": "stream",
          "name": "stdout",
          "text": [
            "Progi rentowności to: ( 0.16131139252325344 ,  38.74493860747675 )\n"
          ]
        }
      ]
    },
    {
      "cell_type": "markdown",
      "source": [
        "#Zadanie typu Cobba-Douglasa - miernik elastyczności\n",
        "\n",
        "Oszacowano funkcję produkcji typu Cobba-Douglasa"
      ],
      "metadata": {
        "id": "5GKdcwffGZ7l"
      }
    },
    {
      "cell_type": "code",
      "source": [
        "liczba_poczatkowa = 0.9\n",
        "x1 = 0.8\n",
        "x2 = 1.4\n",
        "\n",
        "zwiekszenie_majatku = -10"
      ],
      "metadata": {
        "id": "KVU7nfeoE-Iw"
      },
      "execution_count": 33,
      "outputs": []
    },
    {
      "cell_type": "markdown",
      "source": [
        "Gdzie:\n",
        "\n",
        "P - produkcja (w tys. szt.)\n",
        "\n",
        "X1 - majątek trwały (w tys. zł)\n",
        "\n",
        "X2 - zatrudnienie (w osobach)\n",
        "\n",
        "Jak zmieni się produkcja jeżeli majątek trwały zwiększy się o ??? 30% ???\n",
        "\n",
        "Policz odpowiedni miernik elastyczności"
      ],
      "metadata": {
        "id": "EzigCkx6GtBu"
      }
    },
    {
      "cell_type": "code",
      "source": [
        "print(\"Miernik elastyczności wynosi: \", x1*zwiekszenie_majatku)"
      ],
      "metadata": {
        "colab": {
          "base_uri": "https://localhost:8080/"
        },
        "id": "KT3CXQhNGsTT",
        "outputId": "61bb34e7-372d-40b9-a8e8-b917d801eada"
      },
      "execution_count": 34,
      "outputs": [
        {
          "output_type": "stream",
          "name": "stdout",
          "text": [
            "Miernik elastyczności wynosi:  -8.0\n"
          ]
        }
      ]
    },
    {
      "cell_type": "markdown",
      "source": [
        "#Zadanie 9 - minimalny koszt jednostkowy\n",
        "\n",
        "Dana jest funkcja kosztów całkowitych w przedsiębiorstwie"
      ],
      "metadata": {
        "id": "AgZ8R62SHcMg"
      }
    },
    {
      "cell_type": "code",
      "source": [
        "p_kwadrat = 2.1\n",
        "p = -3\n",
        "wyraz_wolny = 15"
      ],
      "metadata": {
        "id": "qNFt5g-WHZBF"
      },
      "execution_count": 37,
      "outputs": []
    },
    {
      "cell_type": "code",
      "source": [
        "nowe_p = np.sqrt(wyraz_wolny / p_kwadrat)\n",
        "\n",
        "k = p_kwadrat*nowe_p + p + wyraz_wolny/nowe_p\n",
        "\n",
        "print(\"Minimalny koszt jednostkowy wynosi: \", k)"
      ],
      "metadata": {
        "colab": {
          "base_uri": "https://localhost:8080/"
        },
        "id": "XZeIMlU4IT7F",
        "outputId": "f3ab14d8-fda4-40b6-f401-6486afcfd4de"
      },
      "execution_count": 38,
      "outputs": [
        {
          "output_type": "stream",
          "name": "stdout",
          "text": [
            "Minimalny koszt jednostkowy wynosi:  8.224972160321824\n"
          ]
        }
      ]
    },
    {
      "cell_type": "markdown",
      "source": [
        "#Zadanie 10 - Cobba-Douglasa - produkt krańcowy\n",
        "\n",
        "Oszacowano funkcję produkcji typu Cobba-Douglasa"
      ],
      "metadata": {
        "id": "AbOCPDyyLpqA"
      }
    },
    {
      "cell_type": "code",
      "source": [
        "liczba_poczatkowa = 0.9\n",
        "x1 = 2.8\n",
        "x2 = 0.4 "
      ],
      "metadata": {
        "id": "953OlU-7KtOc"
      },
      "execution_count": 25,
      "outputs": []
    },
    {
      "cell_type": "markdown",
      "source": [
        "Gdzie:\n",
        "\n",
        "P - produkcja (w tys. szt.)\n",
        "\n",
        "X1 - majątek trwały (w mln zł)\n",
        "\n",
        "X2 - zatrudnienie (w osobach)\n",
        "\n",
        "W pewnym okresie wartość majątku trwałego wynosiła ??? 2 500 000zł ???, zatrudnienie ??? 145 osób ???, a produkcja wyniosła 85 708 sztuk. Produkt krańcowy przypdający na milion zł majątku trwałego wynosi:"
      ],
      "metadata": {
        "id": "2cTIHdepMjWu"
      }
    },
    {
      "cell_type": "code",
      "source": [
        "majatek_trwaly = 2.5\n",
        "zatrudnienie = 145\n",
        "\n",
        "pc = liczba_poczatkowa * np.float_power(majatek_trwaly, x1) * np.float_power(zatrudnienie, x2)\n",
        "pp1 = pc / majatek_trwaly\n",
        "pp2 = pc / zatrudnienie\n",
        "\n",
        "pk1 = x1 * pp1\n",
        "pk2 = x2 * pp2 \n",
        "\n",
        "print(\"Produkt całkowity wynosi: \", pc)\n",
        "print(\"Produkt przeciętny PP1: \", pp1)\n",
        "print(\"Produkt przeciętny PP2: \", pp2)\n",
        "print(\"Produkt krańcowy na milion zł majątku: \", pk1)\n",
        "print(\"Produkt krańcowy na jedną osobę: \", pk2)"
      ],
      "metadata": {
        "colab": {
          "base_uri": "https://localhost:8080/"
        },
        "id": "E0HFYwcyMgnO",
        "outputId": "8f075b76-9faf-472e-d08a-0675cc617f8f"
      },
      "execution_count": 30,
      "outputs": [
        {
          "output_type": "stream",
          "name": "stdout",
          "text": [
            "Produkt całkowity wynosi:  85.70807374487123\n",
            "Produkt przeciętny PP1:  34.28322949794849\n",
            "Produkt przeciętny PP2:  0.5910901637577326\n",
            "Produkt krańcowy na milion zł majątku:  95.99304259425577\n",
            "Produkt krańcowy na jedną osobę:  0.23643606550309304\n"
          ]
        }
      ]
    },
    {
      "cell_type": "code",
      "source": [],
      "metadata": {
        "id": "hkO0sxjAMf3K"
      },
      "execution_count": null,
      "outputs": []
    }
  ]
}